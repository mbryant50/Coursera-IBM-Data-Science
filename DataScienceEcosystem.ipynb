{
 "cells": [
  {
   "cell_type": "markdown",
   "id": "7735735e-e1cb-4321-84a5-7c800be1b0f0",
   "metadata": {},
   "source": [
    "# Data Science Tools and Ecosystem"
   ]
  },
  {
   "cell_type": "markdown",
   "id": "7c6b68a2-e5c2-4941-9f19-4fae44aec061",
   "metadata": {},
   "source": [
    "In this notebook, Data Science Tools and Ecosystem are summarized."
   ]
  },
  {
   "cell_type": "markdown",
   "id": "b15aa0ef-1dde-4c29-8e8e-ef8e3b837cfe",
   "metadata": {},
   "source": [
    "Some of the popular languages that Data Scientists use are:\n",
    "<ol>\n",
    "    <li>Python</li>\n",
    "    <li>R</li>\n",
    "    <li>Java</li>\n",
    "    <li>JavaScript</li>\n",
    "    <li>SQL</li>\n",
    "    </ol>"
   ]
  },
  {
   "cell_type": "markdown",
   "id": "e8c79c26-4b57-493e-ae5c-b86b54a30f4e",
   "metadata": {},
   "source": [
    "Some of the commonly used libraries used by Data Scientists include:\n",
    "<ol>\n",
    "    <li>NumPy</li>\n",
    "    <li>Pandas</li>\n",
    "    <li>ggplot</li>\n",
    "    <li>SciPy</li>\n",
    "    <li>caret</li>\n",
    "    </ol>"
   ]
  },
  {
   "cell_type": "markdown",
   "id": "250317d4-624f-4ef5-958f-a8c5046947c3",
   "metadata": {},
   "source": [
    "|Data Science Tools| \n",
    "|-----|\n",
    "|Jupyter|\n",
    "|Anaconda|\n",
    "|rstudio|\n"
   ]
  },
  {
   "cell_type": "markdown",
   "id": "21ccd5d3-4605-44ea-ae67-326cfd062066",
   "metadata": {
    "tags": []
   },
   "source": [
    "### Below are a few examples of evaluating arithmetic expressions in Python\n"
   ]
  },
  {
   "cell_type": "code",
   "execution_count": null,
   "id": "cc5f1785-be07-4da6-85d3-37693b1d248c",
   "metadata": {},
   "outputs": [],
   "source": [
    "#"
   ]
  }
 ],
 "metadata": {
  "kernelspec": {
   "display_name": "Python",
   "language": "python",
   "name": "conda-env-python-py"
  },
  "language_info": {
   "codemirror_mode": {
    "name": "ipython",
    "version": 3
   },
   "file_extension": ".py",
   "mimetype": "text/x-python",
   "name": "python",
   "nbconvert_exporter": "python",
   "pygments_lexer": "ipython3",
   "version": "3.7.12"
  }
 },
 "nbformat": 4,
 "nbformat_minor": 5
}
